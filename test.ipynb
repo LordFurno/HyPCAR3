{
 "cells": [
  {
   "cell_type": "code",
   "execution_count": 2,
   "metadata": {},
   "outputs": [
    {
     "name": "stdout",
     "output_type": "stream",
     "text": [
      "False\n"
     ]
    }
   ],
   "source": [
    "print(not \"0\")"
   ]
  },
  {
   "cell_type": "code",
   "execution_count": 5,
   "metadata": {},
   "outputs": [
    {
     "ename": "TypeError",
     "evalue": "unhashable type: 'dict'",
     "output_type": "error",
     "traceback": [
      "\u001b[1;31m---------------------------------------------------------------------------\u001b[0m",
      "\u001b[1;31mTypeError\u001b[0m                                 Traceback (most recent call last)",
      "Cell \u001b[1;32mIn[5], line 1\u001b[0m\n\u001b[1;32m----> 1\u001b[0m \u001b[38;5;28mprint\u001b[39m(\u001b[38;5;28;43mset\u001b[39;49m\u001b[43m(\u001b[49m\u001b[43m[\u001b[49m\u001b[43m{\u001b[49m\u001b[38;5;124;43m\"\u001b[39;49m\u001b[38;5;124;43mA\u001b[39;49m\u001b[38;5;124;43m\"\u001b[39;49m\u001b[43m:\u001b[49m\u001b[38;5;241;43m1\u001b[39;49m\u001b[43m}\u001b[49m\u001b[43m]\u001b[49m\u001b[43m)\u001b[49m)\n",
      "\u001b[1;31mTypeError\u001b[0m: unhashable type: 'dict'"
     ]
    }
   ],
   "source": [
    "print(set([{\"A\":1}]))"
   ]
  },
  {
   "cell_type": "code",
   "execution_count": null,
   "metadata": {},
   "outputs": [],
   "source": [
    "import os\n",
    "configs=[]#List of configs to give to PSG later\n",
    "nSamples=100\n",
    "atmosphereType=\"A1\"\n",
    "configFolder=r\"C:\\Users\\Tristan\\Downloads\\HyPCAR3\\configs\"\n",
    "for i,starSample in enumerate([[i]*nSamples for i in range(1,4)]):\n",
    "    for counter,sample in enumerate(starSample):\n",
    "        configNum=(i*nSamples)+counter+1#+1 because counter starts at 0\n",
    "        configFileName=os.path.join(configFolder,f\"{atmosphereType}_{configNum}.txt\")\n",
    "        \n",
    "        print(configFileName)"
   ]
  },
  {
   "cell_type": "code",
   "execution_count": 14,
   "metadata": {},
   "outputs": [],
   "source": [
    "from pyDOE import lhs\n",
    "import numpy as np\n",
    "gStarParamRanges = {\n",
    "'starRad': (0.8, 1.3),\n",
    "'starTemp': (5000, 6000),\n",
    "'Kappa': (-3.5, -2.0),\n",
    "'Gamma1': (-1.5,  1.1),\n",
    "'Gamma2': (-1.5,  0.),\n",
    "'alpha': ( 0.,   1.),\n",
    "'Albedo':(0.1, 0.8),\n",
    "'Distance': (1.3,15.)}\n",
    "lhsSamples=lhs(len(gStarParamRanges),20000)#A list of 8 values 5 times\n",
    "# scaledSamples=np.zeros_like(lhsSamples)\n",
    "# print(scaledSamples)"
   ]
  },
  {
   "cell_type": "code",
   "execution_count": 1,
   "metadata": {},
   "outputs": [],
   "source": []
  },
  {
   "cell_type": "code",
   "execution_count": 5,
   "metadata": {},
   "outputs": [
    {
     "name": "stdout",
     "output_type": "stream",
     "text": [
      "[30, 35, 55, 33, 13, 81, 92, 20, 44, 21, 22, 8, 24, 64, 84, 48, 73, 41, 29, 4, 77, 36, 46, 84, 31, 68, 59, 46, 24, 57, 23, 83, 99, 55, 93, 87, 40, 59, 99, 94, 41, 92, 14, 22, 32, 81, 47, 36, 13, 34]\n"
     ]
    }
   ],
   "source": [
    "import random\n",
    "nums=[]\n",
    "for i in range(50):\n",
    "    nums.append(random.randint(1,100))\n",
    "print(nums)"
   ]
  },
  {
   "cell_type": "code",
   "execution_count": null,
   "metadata": {},
   "outputs": [],
   "source": []
  }
 ],
 "metadata": {
  "kernelspec": {
   "display_name": "Python 3",
   "language": "python",
   "name": "python3"
  },
  "language_info": {
   "codemirror_mode": {
    "name": "ipython",
    "version": 3
   },
   "file_extension": ".py",
   "mimetype": "text/x-python",
   "name": "python",
   "nbconvert_exporter": "python",
   "pygments_lexer": "ipython3",
   "version": "3.12.6"
  }
 },
 "nbformat": 4,
 "nbformat_minor": 2
}

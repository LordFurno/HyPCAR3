{
 "cells": [
  {
   "cell_type": "code",
   "execution_count": 2,
   "metadata": {},
   "outputs": [
    {
     "name": "stdout",
     "output_type": "stream",
     "text": [
      "False\n"
     ]
    }
   ],
   "source": [
    "print(not \"0\")"
   ]
  },
  {
   "cell_type": "code",
   "execution_count": 5,
   "metadata": {},
   "outputs": [
    {
     "ename": "TypeError",
     "evalue": "unhashable type: 'dict'",
     "output_type": "error",
     "traceback": [
      "\u001b[1;31m---------------------------------------------------------------------------\u001b[0m",
      "\u001b[1;31mTypeError\u001b[0m                                 Traceback (most recent call last)",
      "Cell \u001b[1;32mIn[5], line 1\u001b[0m\n\u001b[1;32m----> 1\u001b[0m \u001b[38;5;28mprint\u001b[39m(\u001b[38;5;28;43mset\u001b[39;49m\u001b[43m(\u001b[49m\u001b[43m[\u001b[49m\u001b[43m{\u001b[49m\u001b[38;5;124;43m\"\u001b[39;49m\u001b[38;5;124;43mA\u001b[39;49m\u001b[38;5;124;43m\"\u001b[39;49m\u001b[43m:\u001b[49m\u001b[38;5;241;43m1\u001b[39;49m\u001b[43m}\u001b[49m\u001b[43m]\u001b[49m\u001b[43m)\u001b[49m)\n",
      "\u001b[1;31mTypeError\u001b[0m: unhashable type: 'dict'"
     ]
    }
   ],
   "source": [
    "print(set([{\"A\":1}]))"
   ]
  },
  {
   "cell_type": "code",
   "execution_count": null,
   "metadata": {},
   "outputs": [],
   "source": [
    "import os\n",
    "configs=[]#List of configs to give to PSG later\n",
    "nSamples=100\n",
    "atmosphereType=\"A1\"\n",
    "configFolder=r\"C:\\Users\\Tristan\\Downloads\\HyPCAR3\\configs\"\n",
    "for i,starSample in enumerate([[i]*nSamples for i in range(1,4)]):\n",
    "    for counter,sample in enumerate(starSample):\n",
    "        configNum=(i*nSamples)+counter+1#+1 because counter starts at 0\n",
    "        configFileName=os.path.join(configFolder,f\"{atmosphereType}_{configNum}.txt\")\n",
    "        \n",
    "        print(configFileName)"
   ]
  },
  {
   "cell_type": "code",
   "execution_count": 14,
   "metadata": {},
   "outputs": [],
   "source": [
    "from pyDOE import lhs\n",
    "import numpy as np\n",
    "gStarParamRanges = {\n",
    "'starRad': (0.8, 1.3),\n",
    "'starTemp': (5000, 6000),\n",
    "'Kappa': (-3.5, -2.0),\n",
    "'Gamma1': (-1.5,  1.1),\n",
    "'Gamma2': (-1.5,  0.),\n",
    "'alpha': ( 0.,   1.),\n",
    "'Albedo':(0.1, 0.8),\n",
    "'Distance': (1.3,15.)}\n",
    "lhsSamples=lhs(len(gStarParamRanges),20000)#A list of 8 values 5 times\n",
    "# scaledSamples=np.zeros_like(lhsSamples)\n",
    "# print(scaledSamples)"
   ]
  },
  {
   "cell_type": "code",
   "execution_count": 2,
   "metadata": {},
   "outputs": [
    {
     "name": "stdout",
     "output_type": "stream",
     "text": [
      "/home/tristanb/scratch/configFiles\\A1_12.txt\n"
     ]
    }
   ],
   "source": [
    "import os\n",
    "# configFileName=os.path.join(configFolder,f\"{atmosphereType}_{configNum}.txt\")\n",
    "print(os.path.join(\"/home/tristanb/scratch/configFiles\", f\"A1_{12}.txt\"))"
   ]
  },
  {
   "cell_type": "code",
   "execution_count": 2,
   "metadata": {},
   "outputs": [
    {
     "name": "stdout",
     "output_type": "stream",
     "text": [
      "0\n"
     ]
    }
   ],
   "source": [
    "print(20000%32)"
   ]
  },
  {
   "cell_type": "code",
   "execution_count": 8,
   "metadata": {},
   "outputs": [
    {
     "name": "stdout",
     "output_type": "stream",
     "text": [
      "[4.59424601e-04 7.97090207e-04 9.61223096e-05 7.29339462e-04\n",
      " 4.31713947e-04 9.31741703e-04 5.35175233e-04]\n",
      "[0.58825567 0.11706405 0.29069968]\n",
      "[0.0004594246007181554, 0.0007970902069920539, 9.612230962150569e-05, 0.0007293394623348403, 0.00043171394712927694, 0.0009317417027060772, 0.0005351752327408323, 0.5882556661946974, 0.11706405042602595, 0.29069967591703405]\n"
     ]
    },
    {
     "ename": "",
     "evalue": "",
     "output_type": "error",
     "traceback": [
      "\u001b[1;31mThe Kernel crashed while executing code in the current cell or a previous cell. \n",
      "\u001b[1;31mPlease review the code in the cell(s) to identify a possible cause of the failure. \n",
      "\u001b[1;31mClick <a href='https://aka.ms/vscodeJupyterKernelCrash'>here</a> for more info. \n",
      "\u001b[1;31mView Jupyter <a href='command:jupyter.viewOutput'>log</a> for further details."
     ]
    }
   ],
   "source": [
    "import numpy as np\n",
    "def calculateMoleculeAbundances():\n",
    "    knownValues=np.random.uniform(0,0.001,size=7)#Known moleecule abundancese\n",
    "    totalKnown=np.sum(knownValues)\n",
    "    remainingAbundance=1-totalKnown\n",
    "\n",
    "    backgroundAbundances=np.random.dirichlet(np.ones(3))*remainingAbundance\n",
    "    print(knownValues)\n",
    "    print(backgroundAbundances)\n",
    "    print(list(knownValues)+list(backgroundAbundances))\n",
    "calculateMoleculeAbundances()"
   ]
  },
  {
   "cell_type": "code",
   "execution_count": 7,
   "metadata": {},
   "outputs": [
    {
     "name": "stdout",
     "output_type": "stream",
     "text": [
      "(0.9910312089651149, 0.9617780776627134)\n",
      "0.04719071337217173\n"
     ]
    }
   ],
   "source": [
    "from scipy.stats import lognorm,norm,spearmanr, pearsonr\n",
    "molecules=[\"O2\",\"N2\",\"H2\",\"CO2\",\"H2O\",\"CH4\",\"NH3\"]\n",
    "'''\n",
    "Contains H2O, CH4, NH3, H2/N2\n",
    "        Lacks CO2, O2\n",
    "'''\n",
    "detectionOutput=[0.3,0.6,0.4,0.1,0.7,0.8,0.9]\n",
    "predAbun=[1,2,2,0,4,5,6]\n",
    "# predAbun=[0.45,0.001,0.1,0.001,0.30,0.001,0.2]\n",
    "\n",
    "spearman,p=spearmanr(detectionOutput,predAbun)\n",
    "pearson,p2=pearsonr(detectionOutput,predAbun)\n",
    "print((spearman,pearson))\n",
    "detectionLoss=(1-spearman)+(1-pearson)\n",
    "print(detectionLoss)"
   ]
  },
  {
   "cell_type": "code",
   "execution_count": 3,
   "metadata": {},
   "outputs": [
    {
     "name": "stdout",
     "output_type": "stream",
     "text": [
      "1.0\n"
     ]
    }
   ],
   "source": [
    "test=[1000,0.43,321]\n",
    "total=sum(test)\n",
    "temp=[val/total for val in test]\n"
   ]
  },
  {
   "cell_type": "code",
   "execution_count": 18,
   "metadata": {},
   "outputs": [
    {
     "name": "stdout",
     "output_type": "stream",
     "text": [
      "tensor([[0.1215, 0.1568, 0.2658, 0.2841, 0.0345, 0.1109, 0.0265],\n",
      "        [0.4767, 0.0158, 0.0696, 0.0232, 0.0657, 0.0773, 0.2717]],\n",
      "       dtype=torch.float64)\n",
      "Likelihood: tensor([1.3750, 0.0000])\n",
      "Prior: 0.9349404987119269\n",
      "tensor([2.3099, 0.9349])\n"
     ]
    }
   ],
   "source": [
    "import torch\n",
    "import numpy as np\n",
    "def calculateLikelihood(yReal,ySim,sigma):\n",
    "    '''\n",
    "    This function calculates the likelhood P(A_pred|Y_real). It is a gaussian likelihood function.\n",
    "\n",
    "    Inputs\n",
    "    ------\n",
    "    yReal: Real, input transmittance data\n",
    "    ySim: Simulated transmittance data, calculated using the predicted abundances\n",
    "    sigma: Uncertainty of how well predicted abundances translate to simulated spectra\n",
    "\n",
    "    Returns\n",
    "    -------\n",
    "    likelihood: Likelihood value for given real and simulated data\n",
    "    '''\n",
    "\n",
    "    mse = torch.mean((yReal - ySim)**2,dim=1)  #Mean squared error between real and simulated data\n",
    "    #return np.exp(-mse / (2 * sigma ** 2))\n",
    "    nll = mse / (2 * sigma**2)\n",
    "\n",
    "    # Optionally include constant term: nll += 0.5 * np.log(2 * np.pi * sigma**2)\n",
    "    return nll\n",
    "\n",
    "\n",
    "def classifyAtmosphere(predAbun):\n",
    "    '''\n",
    "    This function calculates the H, O, C and N values from the predicted abundances\n",
    "    Then based on the mixing ratios, we will classify what type of atmosphere it is\n",
    "\n",
    "    Inputs\n",
    "    ------\n",
    "    predAbun: The predicted abundances. A list of 7 values, representing the abundance of each molecule\n",
    "\n",
    "    \n",
    "    Returns\n",
    "    -------\n",
    "    atmosphereType: A value from the list [A1,A2,B,C]\n",
    "    '''\n",
    "    #The order of the molecules\n",
    "    molecules={0:\"O2\",1:\"N2\",2:\"H2\",3:\"CO2\",4:\"H2O\",5:\"CH4\",6:\"NH3\"}\n",
    "\n",
    "    #H = 2*H2 + 2*H2O + 3*NH3 + 4*CH4\n",
    "    abundanceDict={}\n",
    "    for i,val in enumerate(predAbun):\n",
    "        abundanceDict[molecules[i]]=val\n",
    "\n",
    "    H=2*abundanceDict[\"H2\"] + 2*abundanceDict[\"H2O\"] + 3*abundanceDict[\"NH3\"] + 4*abundanceDict[\"CH4\"]\n",
    "\n",
    "    C=abundanceDict[\"CO2\"] + abundanceDict[\"CH4\"]\n",
    "\n",
    "    O=2*abundanceDict[\"O2\"] + 2*abundanceDict[\"CO2\"] + abundanceDict[\"H2O\"]\n",
    "\n",
    "    N=2*abundanceDict[\"N2\"] + abundanceDict[\"NH3\"]\n",
    "\n",
    "    if H> 2*O + 4*C:\n",
    "        if 3*N < H - 2*O - 4*C:\n",
    "            return \"A1\"\n",
    "        else:\n",
    "            return \"A2\"\n",
    "        \n",
    "    elif 2*O > H + 4*C:\n",
    "        return \"B\"\n",
    "    \n",
    "    elif abs(H + C + O + N - 1) < 1e-3:  # Hydrogen-poor constraint\n",
    "        return \"C\"\n",
    "\n",
    "    else:\n",
    "        return \"Unkown\"\n",
    "\n",
    "\n",
    "def calculateExpectedValues(predAbun):\n",
    "    #First figure out what type of atmosphere the model think it is\n",
    "    #Either A1, A2, B, C or unkown\n",
    "    atmosphereType=classifyAtmosphere(predAbun)\n",
    "\n",
    "    molecules={0:\"O2\",1:\"N2\",2:\"H2\",3:\"CO2\",4:\"H2O\",5:\"CH4\",6:\"NH3\"}\n",
    "    abundanceDict={}\n",
    "    for i,val in enumerate(predAbun):\n",
    "        abundanceDict[molecules[i]]=val\n",
    "\n",
    "    H=2*abundanceDict[\"H2\"] + 2*abundanceDict[\"H2O\"] + 3*abundanceDict[\"NH3\"] + 4*abundanceDict[\"CH4\"]\n",
    "\n",
    "    C=abundanceDict[\"CO2\"] + abundanceDict[\"CH4\"]\n",
    "\n",
    "    O=2*abundanceDict[\"O2\"] + 2*abundanceDict[\"CO2\"] + abundanceDict[\"H2O\"]\n",
    "\n",
    "    N=2*abundanceDict[\"N2\"] + abundanceDict[\"NH3\"]\n",
    "\n",
    "    expected={}\n",
    "    if atmosphereType==\"A1\":\n",
    "        #For Type A1 atmospheres (H-rich, mainly H2O, CH4, NH3, and H2; lacking CO2, O2)\n",
    "        '''\n",
    "        H > 2O + 4C\n",
    "        3N < H - 2O -4C\n",
    "\n",
    "        D = H - N - 2C\n",
    "        H2O = 2O / D\n",
    "        NH3 = 2N / D\n",
    "        CH4 = 2C / D\n",
    "        H2 = (H - 2O - 4C - 3N) / D\n",
    "        '''\n",
    "        D = H - N - 2*C\n",
    "        expected[\"H2O\"]=2*O / D\n",
    "        expected[\"NH3\"]=2*N / D\n",
    "        expected[\"CH4\"]=2*C / D\n",
    "        expected[\"H2\"]=(H - 2*O - 4*C - 3*N) / D\n",
    "\n",
    "        expected[\"O2\"]=0\n",
    "        expected[\"N2\"]=0\n",
    "        expected[\"CO2\"]=0\n",
    "\n",
    "    elif atmosphereType==\"A2\":\n",
    "        #For Type A2 atmospheres (H-rich, but mainly H2O, CH4, NH3, and N2; lacking CO2, O2)\n",
    "        '''\n",
    "        D = H + 2C + 3N + 4O\n",
    "        H2O = 6O / D\n",
    "        NH3 = (2H - 8C - 4O) / D\n",
    "        CH4 = 6C / D\n",
    "        N2 = (3N + 4C + 2O - H) / D\n",
    "        '''\n",
    "        D = H + 2*C + 3*N + 4*O\n",
    "        expected[\"H2O\"]=6*O / D\n",
    "        expected[\"NH3\"]=(2*H - 8*C - 4*O) / D\n",
    "        expected[\"CH4\"]=6*C / D\n",
    "        expected[\"N2\"] =(3*N + 4*C + 2*O - H) / D\n",
    "\n",
    "        expected[\"O2\"]=0\n",
    "        expected[\"H2\"]=0\n",
    "        expected[\"CO2\"]=0\n",
    "\n",
    "    elif atmosphereType==\"B\":\n",
    "        #For Type B atmospheres (O-rich, mainly O2, N2, CO2, H2O; lacking NH3, H2)\n",
    "        '''\n",
    "        D = H + 2O + 2N\n",
    "        H2O = 2H / D\n",
    "        N2 = 2N / D\n",
    "        CO2 = 4C / D\n",
    "        O2 = (2O - H - 4C) /D\n",
    "        '''\n",
    "        D = H + 2*O + 2*N\n",
    "        expected[\"H2O\"]=2*H / D\n",
    "        expected[\"N2\"]=2*N / D\n",
    "        expected[\"CO2\"]=4*C / D\n",
    "        expected[\"O2\"]=(2*O - H - 4*C) / D\n",
    "\n",
    "        expected[\"NH3\"]=0\n",
    "        expected[\"H2\"]=0\n",
    "        expected[\"CH4\"]=0\n",
    "    elif atmosphereType==\"C\":\n",
    "        #For Type C atmospheres (Hydrogen-poor: mainly H2O, CO2, CH4, N2; lacking NH3, H2, O2)\n",
    "        #Note: In Type C, the elemental budget is H + C + O + N = 1.\n",
    "        '''\n",
    "        Side conditions, so no negative results\n",
    "        O > 0.5H + 2C -> O2-rich with no CH4\n",
    "        H > 2O + 4C -> H2 ->H2-rich with no CO2\n",
    "        C > 0.25H + 0.5O -> graphite condensation with no H2O\n",
    "\n",
    "        H2O = (H + 2O - 4C) / (H + 2O + 2N)\n",
    "        CH4 = (H - 2O + 4C) / (2H + 4O + 4N)\n",
    "        CO2 = (2O + 4C - H) / (2H + 4O + 4N)\n",
    "        N2 = 2N / (H + 2O + 2N)\n",
    "        '''\n",
    "\n",
    "        #Denom for H2O and N2\n",
    "        D1 = H + 2*O + 2*N\n",
    "\n",
    "        #Denom for CH4 and CO2\n",
    "        D2 = 2*H + 4*O + 4*N  \n",
    "\n",
    "        expected[\"H2O\"] = (H + 2*O - 4*C) / D1\n",
    "        expected[\"CH4\"] = (H - 2*O + 4*C) / D2\n",
    "        expected[\"CO2\"] = (2*O + 4*C - H) / D2\n",
    "        expected[\"N2\"] = 2*N / D1\n",
    "\n",
    "        expected[\"O2\"] = 0\n",
    "        expected[\"H2\"] = 0\n",
    "        expected[\"NH3\"] = 0\n",
    "    else:\n",
    "        #Its unkown, prior should just be 1\n",
    "        #So there is essentially no prior. Just want the likelihood\n",
    "        return None\n",
    "    return list(expected.values())\n",
    "\n",
    "def calculatePrior(predAbun,sigmaPrior):\n",
    "    '''\n",
    "    predAbun: The predicted abundance for each moleecule\n",
    "    sigmaPrior: The uncertainty for each molecule\n",
    "    '''\n",
    "    totalLoss=0.0\n",
    "    batchSize=predAbun.shape[0]\n",
    "    \n",
    "    for i in range(batchSize):\n",
    "        sampleLoss=0.0\n",
    "        sampleAbundance=predAbun[i]\n",
    "        sampleSigma=sigmaPrior[i]\n",
    "        expectedValues=calculateExpectedValues(sampleAbundance.tolist())\n",
    "        if expectedValues==None:\n",
    "            totalLoss+=0\n",
    "        else:\n",
    "            for j in range(len(sampleAbundance)):\n",
    "                mu=expectedValues[j]\n",
    "                sigma=sampleSigma[j]\n",
    "\n",
    "                y=sampleAbundance[j]\n",
    "                sampleLoss+=np.log(np.sqrt(2 * np.pi) * sigma) + ((y - mu)**2) / (2 * sigma**2)\n",
    "            totalLoss+=sampleLoss\n",
    "    return totalLoss/batchSize\n",
    "\n",
    "\n",
    "\n",
    "def calculatePosterior(yReal,ySim,sigmaLikelihood,predAbun,sigmaPrior):\n",
    "    # Math: P({y_{real}}|A_{pred}) \\propto P(A_{pred}|Y_{real}) * P(A_{pred})\n",
    "    '''\n",
    "    This function calculates the unnormalized posterior\n",
    "\n",
    "    Inputs\n",
    "    ------\n",
    "    yReal: Real, input transmittance data\n",
    "    ySim: Simulated transmittance data, calculated using the predicted abundances\n",
    "    sigmaLikelihood: Uncertainty of how well predicted abundances translate to simulated spectra\n",
    "    predAbun: Predicted abundances\n",
    "    sigmaPrior: Uncertaintiy of the precicted abundances\n",
    "\n",
    "    Returns\n",
    "    -------\n",
    "    posterior: Unnormalized posterior probability\n",
    "    '''\n",
    "\n",
    "\n",
    "\n",
    "\n",
    "    prior=calculatePrior(predAbun,sigmaPrior) \n",
    "    likelihood=calculateLikelihood(yReal,ySim,sigmaLikelihood)\n",
    "\n",
    "\n",
    "    #For the likelihood, I should just take the aggregated transmittance. However, later if I want to include wavelength-molecule mapping, here is where I would do it.\n",
    "\n",
    "    print(f\"Likelihood: {likelihood}\")\n",
    "    print(f\"Prior: {prior}\")\n",
    "\n",
    "    posterior=likelihood+prior\n",
    "    return posterior\n",
    "\n",
    "yReal=torch.tensor([[1,1,1,0.5,1,1,1],[1,1,1,0.5,1,1,1]])\n",
    "ySim=torch.tensor([[0.8,0.8,0.8,0.5,0.9,0.75,1],[1,1,1,0.5,1,1,1]])\n",
    "# predAbun=torch.tensor(np.random.dirichlet(np.ones(7),size=2))\n",
    "\n",
    "print(predAbun)\n",
    "print(calculatePosterior(yReal,ySim,0.1,predAbun,torch.tensor([[0.5]*7]*2)))"
   ]
  },
  {
   "cell_type": "code",
   "execution_count": null,
   "metadata": {},
   "outputs": [],
   "source": []
  }
 ],
 "metadata": {
  "kernelspec": {
   "display_name": "Python 3",
   "language": "python",
   "name": "python3"
  },
  "language_info": {
   "codemirror_mode": {
    "name": "ipython",
    "version": 3
   },
   "file_extension": ".py",
   "mimetype": "text/x-python",
   "name": "python",
   "nbconvert_exporter": "python",
   "pygments_lexer": "ipython3",
   "version": "3.12.6"
  }
 },
 "nbformat": 4,
 "nbformat_minor": 2
}
